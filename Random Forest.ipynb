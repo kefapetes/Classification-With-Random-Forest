{
 "cells": [
  {
   "cell_type": "markdown",
   "metadata": {},
   "source": [
    "# Random Forest"
   ]
  },
  {
   "cell_type": "markdown",
   "metadata": {},
   "source": [
    "**Improving on Decision Trees**\n",
    "\n",
    "The main drawback of decision trees are that they have a tendency to overfit. We mitigate this by improving their performance through pruning. We can also use decision trees to make a better model;\n",
    "\n",
    "Decision Trees are very susceptible to random idiosyncrasies in the training dataset. We say that Decision Trees have high variance since if you randomly change the training dataset, you may end up with a very different looking tree.\n",
    "\n",
    "One of the advantages of decision trees over a model like logistic regression is that they make no assumptions about how the data is structured. In logistic regression, we assume that we can draw a line to split the data. Sometimes our data just isn’t structured like that. A decision tree has the potential to get at the essence of the data no matter how it is structured.\n",
    "\n",
    "We will be learning about random forests in this module, which as you may guess from the name, is a model built with multiple trees. The goal of random forests is to take the advantages of decision trees while mitigating the variance issues.\n",
    "\n",
    "A random forest is an example of an ensemble because it uses multiple machine learning models to create a single model.\n",
    "\n",
    "**Bootstrapping**\n",
    "\n",
    "A bootstrapped sample is a random sample of datapoints where we randomly select with replacement datapoints from our original dataset to create a dataset of the same size. Randomly selecting with replacement means that we can choose the same datapoint multiple times. This means that in a bootstrapped sample, some datapoints from the original dataset will appear multiple times and some will not appear at all.\n",
    "\n",
    "For example if we have four datapoints A, B, C, D, these could be 3 resamples:\n",
    "\n",
    "    A, A, B, C\n",
    "    B, B, B, D\n",
    "    A, A, C, C\n",
    "\n",
    "We would rather be able to get more samples of data from the population, but as all we have is our training set, we use that to generate additional datasets.\n",
    "\n",
    "We use bootstrapping to mimic creating multiple samples.\n",
    "\n",
    "**Bagging Decision Trees**\n",
    "\n",
    "Bootstrap Aggregation (or Bagging) is a technique for reducing the variance in an individual model by creating an ensemble from multiple models built on bootstrapped samples.\n",
    "\n",
    "To bag decision trees, we create multiple (say 10) bootstrapped resamples of our training dataset. So if we have 100 datapoints in our training set, each of the resamples will have 100 datapoints randomly chosen from our training set. Recall that we randomly select with replacement, meaning that some datapoints will appear multiple times and some not at all.\n",
    "\n",
    "We create a decision tree with each of these 10 resamples.\n",
    "\n",
    "To make a prediction, we make a prediction with each of the 10 decision trees and then each decision tree gets a vote. The prediction with the most votes is the final prediction.\n",
    "\n",
    "When we bootstrap the training set, we're trying to wash out the variance of the decision tree. The average of several trees that have different training sets will create a model that more accurately gets at the essence of the data.\n",
    "\n",
    "**Decorrelate the Trees**\n",
    "\n",
    "With bagged decision trees, the trees may still be too similar to have fully created the ideal model. They are built on different resamples, but they all have access to the same features. Thus we will add some restrictions to the model when building each decision tree so the trees have more variation. We call this decorrelating the trees.\n",
    "\n",
    "When building a decision tree, at every node, we compare all the split thresholds for each feature to find the single best feature & split threshold. \n",
    "\n",
    "In a decision tree for a random forest, at each node, we randomly select a subset of the features to consider. This will result in us choosing a good, but not the best, feature to split on at each step. It’s important to note that the random selection of features happens at each node. So maybe at the first node we consider the Sex and Fare features and then at the second node, the Fare and Age features.\n",
    "\n",
    "A standard choice for the number of features to consider at each split is the square root of the number of features. So if we have 9 features, we will consider 3 of them at each node (randomly chosen).\n",
    "\n",
    "If we bag these decision trees, we get a random forest.\n",
    "\n",
    "Each decision tree within a random forest is probably worse than a standard decision tree. But when we average them we get a very strong model!"
   ]
  },
  {
   "cell_type": "markdown",
   "metadata": {},
   "source": [
    "# Random Forests with Sklearn"
   ]
  },
  {
   "cell_type": "code",
   "execution_count": 24,
   "metadata": {},
   "outputs": [
    {
     "name": "stdout",
     "output_type": "stream",
     "text": [
      "data dimensions (569, 30)\n"
     ]
    }
   ],
   "source": [
    "import pandas as pd\n",
    "import numpy as np\n",
    "from sklearn.datasets import load_breast_cancer\n",
    "\n",
    "cancer_data = load_breast_cancer()\n",
    "df = pd.DataFrame(cancer_data['data'], columns=cancer_data['feature_names'])\n",
    "df['target'] = cancer_data['target']\n",
    "\n",
    "X = df[cancer_data.feature_names].values\n",
    "y = df['target'].values\n",
    "print('data dimensions', X.shape)"
   ]
  },
  {
   "cell_type": "code",
   "execution_count": 25,
   "metadata": {},
   "outputs": [
    {
     "data": {
      "text/plain": [
       "RandomForestClassifier()"
      ]
     },
     "execution_count": 25,
     "metadata": {},
     "output_type": "execute_result"
    }
   ],
   "source": [
    "from sklearn.ensemble import RandomForestClassifier\n",
    "from sklearn.model_selection import train_test_split\n",
    "\n",
    "X_train, X_test, y_train, y_test = train_test_split(X, y, random_state = 101)\n",
    "\n",
    "rf= RandomForestClassifier()\n",
    "rf.fit(X_train, y_train)"
   ]
  },
  {
   "cell_type": "code",
   "execution_count": 26,
   "metadata": {},
   "outputs": [
    {
     "name": "stdout",
     "output_type": "stream",
     "text": [
      "prediction: [1]\n",
      "true value: 1\n"
     ]
    }
   ],
   "source": [
    "first_row = X_test[0]\n",
    "\n",
    "print(\"prediction:\", rf.predict([first_row]))\n",
    "print(\"true value:\", y_test[0])"
   ]
  },
  {
   "cell_type": "markdown",
   "metadata": {},
   "source": [
    "We use the model to make a prediction. \n",
    "\n",
    "     We take the first row of the test set and see what the prediction is. \n",
    "     The predict method takes an 2D array of points, so even when we have just one point, we have to put it in a list\n",
    "     These results mean that the model predicted that the lump was cancerous and that was correct.\n"
   ]
  },
  {
   "cell_type": "code",
   "execution_count": 27,
   "metadata": {},
   "outputs": [
    {
     "name": "stdout",
     "output_type": "stream",
     "text": [
      "Random Forest Accuracy: 0.965034965034965\n"
     ]
    }
   ],
   "source": [
    "#using the score method to calculate the accuracy over the whole test set.\n",
    "\n",
    "print(\"Random Forest Accuracy:\", rf.score(X_test, y_test))"
   ]
  },
  {
   "cell_type": "markdown",
   "metadata": {},
   "source": [
    "# Tuning a Random Forest"
   ]
  },
  {
   "cell_type": "markdown",
   "metadata": {},
   "source": [
    "**Random Forest Parameters**\n",
    "\n",
    "Since a random forest is made up of decision trees, we have all the same tuning parameters for prepruning as we did for decision trees: max_depth, min_samples_leaf, and max_leaf_nodes.\n",
    "\n",
    "With random forests, it is generally not important to tune these as overfitting is generally not an issue.\n",
    "\n",
    "\n",
    "New tuning parameters: \n",
    "\n",
    "      n_estimators (the number of trees) and\n",
    "      max_features (the number of features to consider at each split).\n",
    "\n",
    "The default for the max features is the square root of p, where p is the number of features (or predictors). The default is generally a good choice for max features and we usually will not need to change it, but you can set it to a fixed number with the following code.\n",
    "  \n",
    "      rf = RandomForestClassifier(max_features=5)\n",
    "      \n",
    "The default number of estimators (decision trees) is 100. This often works well but may in some cases be too small. You can set it to another number as follows\n",
    "\n",
    "     rf = RandomForestClassifier(n_estimators=15)\n",
    "     \n",
    "     \n",
    "**Grid Search**\n",
    "\n",
    "As is in the Decision Tree module, scikit-learn has built in a Grid Search class to help us find the optimal choice of parameters.\n",
    "\n",
    "We need to define the parameter grid of the parameters we want to vary and give a list of the values to try.\n",
    "\n",
    "     param_grid = {\n",
    "    'n_estimators': [10, 25, 50, 75, 100],}"
   ]
  },
  {
   "cell_type": "code",
   "execution_count": 28,
   "metadata": {},
   "outputs": [
    {
     "name": "stdout",
     "output_type": "stream",
     "text": [
      "best params: {'n_estimators': 25}\n"
     ]
    }
   ],
   "source": [
    "from sklearn.model_selection import GridSearchCV\n",
    "\n",
    "param_grid = {'n_estimators': [10, 25, 50, 75, 100]}\n",
    "\n",
    "rf1 = RandomForestClassifier(random_state = 123)\n",
    "gs = GridSearchCV(rf1, param_grid, scoring = 'f1', cv = 5)\n",
    "\n",
    "gs.fit(X, y)\n",
    "print(\"best params:\", gs.best_params_)"
   ]
  },
  {
   "cell_type": "markdown",
   "metadata": {},
   "source": [
    "we've used the fit method to run the grid search. The best parameters will be stored in the best_params_ attribute.\n",
    "\n",
    "On defaultthe parameters returned are those that yield the highest accuracy as that is the default metric. \n",
    "\n",
    "You may get slightly different results each time you run this as the random split in the 5 folds may affect which has the best accuracy score. To avoid outputting a different best parameter each time, we set the random_state in the classifier.\n",
    "\n",
    "Accuracy will work okay for us in this case as the classes in the breast cancer dataset are reasonably balanced. If the classes are imbalanced, we would want to use an alternative metric, like the f1-score (as we've done), by changing scoring(metric) parameter to \"f1\" \n",
    "\n",
    "\n"
   ]
  },
  {
   "cell_type": "markdown",
   "metadata": {},
   "source": [
    "# Elbow Graph"
   ]
  },
  {
   "cell_type": "markdown",
   "metadata": {},
   "source": [
    "With a parameter like the number of trees in a random forest, increasing the number of trees will never hurt performance. Increasing the number trees will increase performance until a point where it levels out.\n",
    "\n",
    "The more trees, however, the more complicated the algorithm. A more complicated algorithm is more resource intensive to use. Generally it is worth adding complexity to the model if it improves performance but we do not want to unnecessarily add complexity.\n",
    "\n",
    "We use an **Elbow Graph** to find the sweet spot. Elbow Graph is a model that optimizes performance without adding unnecessary complexity."
   ]
  },
  {
   "cell_type": "code",
   "execution_count": 29,
   "metadata": {},
   "outputs": [
    {
     "data": {
      "text/plain": [
       "GridSearchCV(cv=5, estimator=RandomForestClassifier(random_state=123),\n",
       "             param_grid={'n_estimators': [1, 2, 3, 4, 5, 6, 7, 8, 9, 10, 11, 12,\n",
       "                                          13, 14, 15, 16, 17, 18, 19, 20, 21,\n",
       "                                          22, 23, 24, 25, 26, 27, 28, 29, 30, ...]})"
      ]
     },
     "execution_count": 29,
     "metadata": {},
     "output_type": "execute_result"
    }
   ],
   "source": [
    "n_estimators = list(range(1, 101))\n",
    "\n",
    "param_grid = {'n_estimators': n_estimators}\n",
    "\n",
    "rf2 = RandomForestClassifier(random_state = 123)\n",
    "gs2 = GridSearchCV(rf2, param_grid, cv = 5)\n",
    "gs2.fit(X,y)"
   ]
  },
  {
   "cell_type": "markdown",
   "metadata": {},
   "source": [
    "To find the optimal value, we do a Grid Search trying all the values from 1 to 100 for n_estimators.\n",
    "\n",
    "Instead of just looking at the best params, we are going to use the entire result from the grid search. \n",
    "\n",
    "The values are located in the cv_results_ attribute. This is a dictionary with a lot of data, however, we will only need one of the keys: mean_test_score. We pull out these values and store them as a variable."
   ]
  },
  {
   "cell_type": "code",
   "execution_count": 30,
   "metadata": {},
   "outputs": [
    {
     "data": {
      "text/plain": [
       "array([0.90506133, 0.91386431, 0.94027325, 0.94199658, 0.9561093 ,\n",
       "       0.95081509, 0.95961807, 0.95609377, 0.95960255, 0.95960255,\n",
       "       0.96311132, 0.9648657 , 0.96489676, 0.96314237, 0.9719143 ,\n",
       "       0.96488123, 0.97015991, 0.96840553, 0.97015991, 0.96840553,\n",
       "       0.96840553, 0.96840553, 0.97015991, 0.96840553, 0.97015991,\n",
       "       0.9719143 , 0.97014439, 0.97014439, 0.96839   , 0.97365316,\n",
       "       0.97189877, 0.96662009, 0.97014439, 0.9648657 , 0.9648657 ,\n",
       "       0.96309579, 0.96662009, 0.96835895, 0.96660456, 0.96485018,\n",
       "       0.9648657 , 0.96662009, 0.96662009, 0.96309579, 0.96309579,\n",
       "       0.96309579, 0.9648657 , 0.96311132, 0.9648657 , 0.9648657 ,\n",
       "       0.9648657 , 0.96485018, 0.96309579, 0.96309579, 0.96309579,\n",
       "       0.96309579, 0.96309579, 0.96309579, 0.96309579, 0.96309579,\n",
       "       0.96309579, 0.96309579, 0.96309579, 0.96309579, 0.96134141,\n",
       "       0.95958702, 0.96134141, 0.95958702, 0.96134141, 0.95958702,\n",
       "       0.96134141, 0.96309579, 0.96311132, 0.96134141, 0.96488123,\n",
       "       0.96311132, 0.96311132, 0.9648657 , 0.96663562, 0.96662009,\n",
       "       0.9648657 , 0.9648657 , 0.9648657 , 0.96662009, 0.96663562,\n",
       "       0.96663562, 0.96488123, 0.9648657 , 0.96488123, 0.9648657 ,\n",
       "       0.96488123, 0.96663562, 0.96488123, 0.96312684, 0.96312684,\n",
       "       0.96312684, 0.96312684, 0.96312684, 0.96488123, 0.96312684])"
      ]
     },
     "execution_count": 30,
     "metadata": {},
     "output_type": "execute_result"
    }
   ],
   "source": [
    "scores = gs2.cv_results_['mean_test_score']\n",
    "scores "
   ]
  },
  {
   "cell_type": "markdown",
   "metadata": {},
   "source": [
    "We the use matplotlib to plot the results."
   ]
  },
  {
   "cell_type": "code",
   "execution_count": 31,
   "metadata": {},
   "outputs": [
    {
     "data": {
      "image/png": "[encoded data removed]",
      "text/plain": [
       "<Figure size 432x288 with 1 Axes>"
      ]
     },
     "metadata": {
      "needs_background": "light"
     },
     "output_type": "display_data"
    }
   ],
   "source": [
    "import matplotlib.pyplot as plt \n",
    "\n",
    "n_estimators = list(range(1,101))\n",
    "\n",
    "#collect max datapoints\n",
    "max_scores = []\n",
    "scores = gs2.cv_results_['mean_test_score'].round(4)\n",
    "max_score = np.max(scores)\n",
    "\n",
    "max_point = [m for m in range(len(scores)) if scores[m] == max_score]\n",
    "\n",
    "#Graph Info\n",
    "plt.plot(n_estimators, scores)\n",
    "\n",
    "plt.title('Elbow Graph')\n",
    "plt.xlabel('n_estimators')\n",
    "plt.ylabel('accuracy')\n",
    "\n",
    "plt.xlim(0,100)\n",
    "plt.ylim(0.9,1.0)\n",
    "\n",
    "plt.plot([max_point],[max_score], marker = 'o', markersize = 10, markerfacecolor = None, markeredgecolor = 'r')\n",
    "\n",
    "plt.show()"
   ]
  },
  {
   "cell_type": "markdown",
   "metadata": {},
   "source": [
    "**code for the maximum point to be labelled**\n",
    "\n",
    "    if len(max_point) == 1 :\n",
    "        max_text='max point ['+ str(max_point[0])+','+str(max_score)+']'\n",
    "        plt.annotate(text=max_text,xy=(max_point[0],max_score),xytext=(max_point[0]-10,max_score+0.01),color='r',size=10)\n",
    "    else:\n",
    "        max_text='max : '+str(max_score)+' ('+str(len(max_scores))+' points)'\n",
    "        plt.text(30.0,0.91,max_text,c='b',size =10)"
   ]
  },
  {
   "cell_type": "markdown",
   "metadata": {},
   "source": [
    "If we look at this graph, we see that around 10 trees the graph levels out. The best model occurred at n_estimators=29 but given how volatile it is, that was probably due to random chance. We choose about 10 to be our number of estimators, because we want the minimum number of estimators that still yield maximum performance."
   ]
  },
  {
   "cell_type": "markdown",
   "metadata": {},
   "source": [
    "We can build our random forest model with the optimal number of trees."
   ]
  },
  {
   "cell_type": "code",
   "execution_count": 32,
   "metadata": {},
   "outputs": [
    {
     "data": {
      "text/plain": [
       "RandomForestClassifier(n_estimators=10)"
      ]
     },
     "execution_count": 32,
     "metadata": {},
     "output_type": "execute_result"
    }
   ],
   "source": [
    "rffinal = RandomForestClassifier(n_estimators = 10)\n",
    "rffinal.fit(X,y)"
   ]
  },
  {
   "cell_type": "markdown",
   "metadata": {},
   "source": [
    "Elbow graphs pop up in lots of different situations when we are adding complexity to a model and want to determine the minimal amount of complexity that will yield optimal performance."
   ]
  },
  {
   "cell_type": "markdown",
   "metadata": {},
   "source": [
    "# Feature Importances"
   ]
  },
  {
   "cell_type": "markdown",
   "metadata": {},
   "source": [
    "Does every feature contribute equally to building a model?\n",
    "\n",
    "If not, which subset of features should we use? \n",
    "\n",
    "This is a matter of **feature selection.**\n",
    "\n",
    "Random forests provide a straightforward method for feature selection: **mean decrease impurity.** \n",
    "\n",
    "A random forest consists of many decision trees, and that for each tree, the node is chosen to split the dataset based on maximum decrease in impurity, typically either Gini impurity or entropy in classification. \n",
    "\n",
    "Thus for a tree, it can be computed how much impurity each feature decreases in a tree, and then for a forest, the impurity decrease from each feature can be averaged. Consider this measure a metric of importance of each feature, we then can rank and select the features according to feature importance.\n",
    "\n",
    "Scikit-learn provides a feature_importances_ variable with the model, which shows the relative importance of each feature. The scores are scaled down so that the sum of all scores is 1."
   ]
  },
  {
   "cell_type": "code",
   "execution_count": 33,
   "metadata": {},
   "outputs": [
    {
     "data": {
      "text/plain": [
       "worst radius            0.309701\n",
       "mean concave points     0.183126\n",
       "worst concave points    0.115641\n",
       "mean perimeter          0.064119\n",
       "mean radius             0.058742\n",
       "worst concavity         0.050951\n",
       "radius error            0.049103\n",
       "mean texture            0.017197\n",
       "worst area              0.016512\n",
       "mean concavity          0.014696\n",
       "dtype: float64"
      ]
     },
     "execution_count": 33,
     "metadata": {},
     "output_type": "execute_result"
    }
   ],
   "source": [
    "rf3 = RandomForestClassifier(n_estimators = 10, random_state = 111)\n",
    "\n",
    "rf3.fit(X_train, y_train)\n",
    "\n",
    "ft_imp = pd.Series(rf3.feature_importances_, index = cancer_data.feature_names).sort_values(ascending = False)\n",
    "\n",
    "ft_imp.head(10)"
   ]
  },
  {
   "cell_type": "markdown",
   "metadata": {},
   "source": [
    "(In above code)We find the feature importances in a random forest with n_estimator = 10 using the training dataset, and display them in the descending order.\n",
    "\n",
    "From the output, we can see that among all features, worst radius is most important (0.31), followed by mean concave points and worst concave points.\n",
    "\n",
    "In regression, we calculate the feature importance using variance instead."
   ]
  },
  {
   "cell_type": "markdown",
   "metadata": {},
   "source": [
    "Why should we perform feature selection? Top reasons are:\n",
    "\n",
    "    it enables us to train a model faster;\n",
    "    it reduces the complexity of a model thus makes it easier to interpret.\n",
    "    And if the right subset is chosen, it can improve the accuracy of a model.\n",
    "    Choosing the right subset often relies on domain knowledge, some art, and a bit of luck.\n",
    "    \n",
    "    "
   ]
  },
  {
   "cell_type": "markdown",
   "metadata": {},
   "source": [
    "We  can try to build a model with higher importances, and see if it improves accuracy. \n",
    "\n",
    "The advantage of building a model using less features is more pronounced when the sample size is large.\n",
    "\n",
    "This is because of removal of some noise(features) in the model.\n",
    "\n",
    "Grabbing columns by name:\n",
    "\n",
    "     worst_cols = [col for col in df.columns if 'worst' in col]\n",
    "     X_worst = df[worst_cols]"
   ]
  },
  {
   "cell_type": "markdown",
   "metadata": {},
   "source": [
    "# Random Forest Pros & Cons"
   ]
  },
  {
   "cell_type": "markdown",
   "metadata": {},
   "source": [
    "**Performance**\n",
    "\n",
    "Probably the biggest advantage of Random Forests is that they generally perform well without any tuning. They will also perform decently well on almost every dataset.\n",
    "\n",
    "A linear model, for example, cannot perform well on a dataset that cannot be split with a line. It is not possible to split the following dataset with a line without manipulating the features. However, a random forest will perform just fine on this dataset.\n",
    "\n",
    "We can see this by looking at the code below to generate the fake dataset and comparing a Logistic Regression model with a Random Forest model.\n",
    "    \n",
    "    The function make_circles makes a classification dataset with concentric circles. \n",
    "    We use kfold cross validation to compare the accuracy scores and see that the Logistic Regression model performs worse \n",
    "    than random guessing but the Random Forest model performs quite well."
   ]
  },
  {
   "cell_type": "code",
   "execution_count": 38,
   "metadata": {},
   "outputs": [
    {
     "name": "stdout",
     "output_type": "stream",
     "text": [
      "LR accuracy: 0.36\n",
      "RF accuracy: 0.82\n"
     ]
    }
   ],
   "source": [
    "from sklearn.datasets import make_circles\n",
    "from sklearn.model_selection import KFold\n",
    "from sklearn.linear_model import LogisticRegression\n",
    "\n",
    "X, y = make_circles(noise=0.2, factor=0.5, random_state=1)\n",
    "\n",
    "kf = KFold(n_splits=5, shuffle=True, random_state=1)\n",
    "lr_scores = []\n",
    "rf_scores = []\n",
    "\n",
    "for train_index, test_index in kf.split(X):\n",
    "    X_train, X_test = X[train_index], X[test_index]\n",
    "    y_train, y_test = y[train_index], y[test_index]\n",
    "    \n",
    "    lr = LogisticRegression(solver='lbfgs')\n",
    "    lr.fit(X_train, y_train)\n",
    "    lr_scores.append(lr.score(X_test, y_test))\n",
    "    \n",
    "    rf = RandomForestClassifier(n_estimators=100)\n",
    "    rf.fit(X_train, y_train)\n",
    "    rf_scores.append(rf.score(X_test, y_test))\n",
    "    \n",
    "print(\"LR accuracy:\", np.mean(lr_scores))\n",
    "print(\"RF accuracy:\", np.mean(rf_scores))"
   ]
  },
  {
   "cell_type": "markdown",
   "metadata": {},
   "source": [
    "When looking to get a benchmark for a classification problem; \n",
    "     \n",
    "     it is common practice to start by building a Logistic Regression model and a Random Forest model as these two models \n",
    "     both have potential to perform well without any tuning.\n",
    "     This will give you values for your metrics to try to beat. Often times it is almost impossible to do better than these \n",
    "     benchmarks.\n",
    "     \n",
    "\n",
    "solver{‘newton-cg’, ‘lbfgs’, ‘liblinear’, ‘sag’, ‘saga’}, default=’lbfgs’ Algorithm to use in the optimization problem.\n",
    "\n",
    "    LogisticRegression(solver='lbfgs') \n",
    "\n",
    "    1) For small datasets, ‘liblinear’ is a good choice, whereas ‘sag’ and ‘saga’ are faster for large ones. \n",
    "    2) For multiclass problems, only ‘newton-cg’, ‘sag’, ‘saga’ and ‘lbfgs’ handle multinomial loss; \n",
    "    3) ‘liblinear’ is limited to one-versus-rest schemes. ‘newton-cg’, ‘lbfgs’, ‘sag’ and ‘saga’ handle L2 or no penalty \n",
    "    4) ‘liblinear’ and ‘saga’ also handle L1 penalty ‘saga’ also supports ‘elasticnet’ penalty ‘liblinear’ does not support \n",
    "        setting penalty='none'"
   ]
  },
  {
   "cell_type": "markdown",
   "metadata": {},
   "source": [
    "**Interpretability**\n",
    "\n",
    "Random Forests, despite being made up of Decision Trees, are not easy to interpret. A random forest has several decision trees, each of which is not a very good model, but when averaged, create an excellent model. Thus Random Forests are not a good choice when looking for interpretability.\n",
    "\n",
    "In most cases, interpretability is not important.\n",
    "\n",
    "**Computation**\n",
    "\n",
    "Random Forests can be a little slow to build, especially if you have a lot of trees in the random forest. Building a random forest involves building 10-100 (usually) decision trees. Each of the decision trees is faster to build than a standard decision tree because of how we do not compare every feature at every split, however given the quantity of decision trees it is often slow to build.\n",
    "\n",
    "Similarly, predicting with a Random Forest will be slower than a Decision Tree since we have to do a prediction with each of the 10-100 decision trees in order to get our final prediction."
   ]
  },
  {
   "cell_type": "code",
   "execution_count": null,
   "metadata": {},
   "outputs": [],
   "source": []
  }
 ],
 "metadata": {
  "kernelspec": {
   "display_name": "Python 3",
   "language": "python",
   "name": "python3"
  },
  "language_info": {
   "codemirror_mode": {
    "name": "ipython",
    "version": 3
   },
   "file_extension": ".py",
   "mimetype": "text/x-python",
   "name": "python",
   "nbconvert_exporter": "python",
   "pygments_lexer": "ipython3",
   "version": "3.8.5"
  }
 },
 "nbformat": 4,
 "nbformat_minor": 4
}
